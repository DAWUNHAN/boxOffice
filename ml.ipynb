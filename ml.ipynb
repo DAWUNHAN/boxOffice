{
 "cells": [
  {
   "cell_type": "markdown",
   "metadata": {},
   "source": [
    "# 데이터 전처리"
   ]
  },
  {
   "cell_type": "code",
   "execution_count": 1,
   "metadata": {},
   "outputs": [],
   "source": [
    "import matplotlib.pyplot as plt\n",
    "import numpy as np\n",
    "import pandas as pd\n",
    "import pickle\n",
    "import plotly.express as px\n",
    "import re\n",
    "import seaborn as sns\n",
    "import warnings\n",
    "import lightgbm as lgbm\n",
    "\n",
    "from category_encoders import OneHotEncoder, OrdinalEncoder\n",
    "from lightgbm import LGBMRegressor\n",
    "from sklearn.metrics import mean_squared_error, mean_absolute_error, r2_score\n",
    "from sklearn.model_selection import RandomizedSearchCV, train_test_split\n",
    "from sklearn.pipeline import make_pipeline, Pipeline\n",
    "\n",
    "warnings.filterwarnings(action='ignore')\n",
    "\n",
    "#abcd efg hijk lmn opqr stu vwxyz"
   ]
  },
  {
   "cell_type": "code",
   "execution_count": 2,
   "metadata": {
    "scrolled": true
   },
   "outputs": [
    {
     "data": {
      "text/html": [
       "<div>\n",
       "<style scoped>\n",
       "    .dataframe tbody tr th:only-of-type {\n",
       "        vertical-align: middle;\n",
       "    }\n",
       "\n",
       "    .dataframe tbody tr th {\n",
       "        vertical-align: top;\n",
       "    }\n",
       "\n",
       "    .dataframe thead th {\n",
       "        text-align: right;\n",
       "    }\n",
       "</style>\n",
       "<table border=\"1\" class=\"dataframe\">\n",
       "  <thead>\n",
       "    <tr style=\"text-align: right;\">\n",
       "      <th></th>\n",
       "      <th>imdbID</th>\n",
       "      <th>Title</th>\n",
       "      <th>Year</th>\n",
       "      <th>Genre</th>\n",
       "      <th>Director</th>\n",
       "      <th>Language</th>\n",
       "      <th>Country</th>\n",
       "      <th>Poster</th>\n",
       "      <th>imdbRating</th>\n",
       "      <th>BoxOffice</th>\n",
       "    </tr>\n",
       "  </thead>\n",
       "  <tbody>\n",
       "    <tr>\n",
       "      <th>0</th>\n",
       "      <td>tt0237572</td>\n",
       "      <td>The Pledge</td>\n",
       "      <td>2001</td>\n",
       "      <td>Crime, Drama, Mystery</td>\n",
       "      <td>Sean Penn</td>\n",
       "      <td>English</td>\n",
       "      <td>United States, Canada</td>\n",
       "      <td>https://m.media-amazon.com/images/M/MV5BNTJjNT...</td>\n",
       "      <td>6.8</td>\n",
       "      <td>$19,733,089</td>\n",
       "    </tr>\n",
       "    <tr>\n",
       "      <th>1</th>\n",
       "      <td>tt0237865</td>\n",
       "      <td>Twilight: Los Angeles</td>\n",
       "      <td>2000</td>\n",
       "      <td>Drama</td>\n",
       "      <td>Marc Levin</td>\n",
       "      <td>English</td>\n",
       "      <td>United States</td>\n",
       "      <td>https://m.media-amazon.com/images/M/MV5BMjE5Mj...</td>\n",
       "      <td>7.6</td>\n",
       "      <td>$10,688</td>\n",
       "    </tr>\n",
       "    <tr>\n",
       "      <th>2</th>\n",
       "      <td>tt0237993</td>\n",
       "      <td>101 Reykjavík</td>\n",
       "      <td>2000</td>\n",
       "      <td>Comedy, Romance</td>\n",
       "      <td>Baltasar Kormákur</td>\n",
       "      <td>Icelandic, English, Spanish</td>\n",
       "      <td>Iceland, Denmark, France, Norway, Germany</td>\n",
       "      <td>https://m.media-amazon.com/images/M/MV5BMTIyNT...</td>\n",
       "      <td>6.8</td>\n",
       "      <td>$126,404</td>\n",
       "    </tr>\n",
       "  </tbody>\n",
       "</table>\n",
       "</div>"
      ],
      "text/plain": [
       "      imdbID                  Title  Year                  Genre  \\\n",
       "0  tt0237572             The Pledge  2001  Crime, Drama, Mystery   \n",
       "1  tt0237865  Twilight: Los Angeles  2000                  Drama   \n",
       "2  tt0237993          101 Reykjavík  2000        Comedy, Romance   \n",
       "\n",
       "            Director                     Language  \\\n",
       "0          Sean Penn                      English   \n",
       "1         Marc Levin                      English   \n",
       "2  Baltasar Kormákur  Icelandic, English, Spanish   \n",
       "\n",
       "                                     Country  \\\n",
       "0                      United States, Canada   \n",
       "1                              United States   \n",
       "2  Iceland, Denmark, France, Norway, Germany   \n",
       "\n",
       "                                              Poster  imdbRating    BoxOffice  \n",
       "0  https://m.media-amazon.com/images/M/MV5BNTJjNT...         6.8  $19,733,089  \n",
       "1  https://m.media-amazon.com/images/M/MV5BMjE5Mj...         7.6      $10,688  \n",
       "2  https://m.media-amazon.com/images/M/MV5BMTIyNT...         6.8     $126,404  "
      ]
     },
     "execution_count": 2,
     "metadata": {},
     "output_type": "execute_result"
    }
   ],
   "source": [
    "df = pd.read_csv('./data/movie_train.csv')\n",
    "df.head(3)"
   ]
  },
  {
   "cell_type": "code",
   "execution_count": 3,
   "metadata": {},
   "outputs": [],
   "source": [
    "target = 'BoxOffice'"
   ]
  },
  {
   "cell_type": "code",
   "execution_count": 4,
   "metadata": {
    "scrolled": true
   },
   "outputs": [
    {
     "data": {
      "text/plain": [
       "(4177, 10)"
      ]
     },
     "execution_count": 4,
     "metadata": {},
     "output_type": "execute_result"
    }
   ],
   "source": [
    "df.shape"
   ]
  },
  {
   "cell_type": "markdown",
   "metadata": {},
   "source": [
    "## 결측치 확인 및 제거"
   ]
  },
  {
   "cell_type": "code",
   "execution_count": 5,
   "metadata": {},
   "outputs": [
    {
     "data": {
      "text/plain": [
       "imdbID         0\n",
       "Title          0\n",
       "Year           0\n",
       "Genre          4\n",
       "Director       3\n",
       "Language       7\n",
       "Country        0\n",
       "Poster        15\n",
       "imdbRating     0\n",
       "BoxOffice      0\n",
       "dtype: int64"
      ]
     },
     "execution_count": 5,
     "metadata": {},
     "output_type": "execute_result"
    }
   ],
   "source": [
    "df.isnull().sum()"
   ]
  },
  {
   "cell_type": "code",
   "execution_count": 6,
   "metadata": {},
   "outputs": [
    {
     "data": {
      "text/html": [
       "<div>\n",
       "<style scoped>\n",
       "    .dataframe tbody tr th:only-of-type {\n",
       "        vertical-align: middle;\n",
       "    }\n",
       "\n",
       "    .dataframe tbody tr th {\n",
       "        vertical-align: top;\n",
       "    }\n",
       "\n",
       "    .dataframe thead th {\n",
       "        text-align: right;\n",
       "    }\n",
       "</style>\n",
       "<table border=\"1\" class=\"dataframe\">\n",
       "  <thead>\n",
       "    <tr style=\"text-align: right;\">\n",
       "      <th></th>\n",
       "      <th>imdbID</th>\n",
       "      <th>Title</th>\n",
       "      <th>Year</th>\n",
       "      <th>Genre</th>\n",
       "      <th>Director</th>\n",
       "      <th>Language</th>\n",
       "      <th>Country</th>\n",
       "      <th>Poster</th>\n",
       "      <th>imdbRating</th>\n",
       "      <th>BoxOffice</th>\n",
       "    </tr>\n",
       "  </thead>\n",
       "  <tbody>\n",
       "    <tr>\n",
       "      <th>0</th>\n",
       "      <td>tt0237572</td>\n",
       "      <td>The Pledge</td>\n",
       "      <td>2001</td>\n",
       "      <td>Crime, Drama, Mystery</td>\n",
       "      <td>Sean Penn</td>\n",
       "      <td>English</td>\n",
       "      <td>United States, Canada</td>\n",
       "      <td>https://m.media-amazon.com/images/M/MV5BNTJjNT...</td>\n",
       "      <td>6.8</td>\n",
       "      <td>$19,733,089</td>\n",
       "    </tr>\n",
       "    <tr>\n",
       "      <th>1</th>\n",
       "      <td>tt0237865</td>\n",
       "      <td>Twilight: Los Angeles</td>\n",
       "      <td>2000</td>\n",
       "      <td>Drama</td>\n",
       "      <td>Marc Levin</td>\n",
       "      <td>English</td>\n",
       "      <td>United States</td>\n",
       "      <td>https://m.media-amazon.com/images/M/MV5BMjE5Mj...</td>\n",
       "      <td>7.6</td>\n",
       "      <td>$10,688</td>\n",
       "    </tr>\n",
       "    <tr>\n",
       "      <th>2</th>\n",
       "      <td>tt0237993</td>\n",
       "      <td>101 Reykjavík</td>\n",
       "      <td>2000</td>\n",
       "      <td>Comedy, Romance</td>\n",
       "      <td>Baltasar Kormákur</td>\n",
       "      <td>Icelandic, English, Spanish</td>\n",
       "      <td>Iceland, Denmark, France, Norway, Germany</td>\n",
       "      <td>https://m.media-amazon.com/images/M/MV5BMTIyNT...</td>\n",
       "      <td>6.8</td>\n",
       "      <td>$126,404</td>\n",
       "    </tr>\n",
       "    <tr>\n",
       "      <th>3</th>\n",
       "      <td>tt0237994</td>\n",
       "      <td>15 février 1839</td>\n",
       "      <td>2001</td>\n",
       "      <td>Drama, History</td>\n",
       "      <td>Pierre Falardeau</td>\n",
       "      <td>French, English, Latin</td>\n",
       "      <td>Canada</td>\n",
       "      <td>https://m.media-amazon.com/images/M/MV5BMGI2Y2...</td>\n",
       "      <td>7.2</td>\n",
       "      <td>$43,595</td>\n",
       "    </tr>\n",
       "    <tr>\n",
       "      <th>4</th>\n",
       "      <td>tt0238015</td>\n",
       "      <td>All Access: Front Row. Backstage. Live!</td>\n",
       "      <td>2001</td>\n",
       "      <td>Documentary, Music</td>\n",
       "      <td>Martyn Atkins</td>\n",
       "      <td>English</td>\n",
       "      <td>USA</td>\n",
       "      <td>https://m.media-amazon.com/images/M/MV5BNjU1Nz...</td>\n",
       "      <td>8.2</td>\n",
       "      <td>$992,683</td>\n",
       "    </tr>\n",
       "    <tr>\n",
       "      <th>5</th>\n",
       "      <td>tt0238066</td>\n",
       "      <td>Bounce: Behind the Velvet Rope</td>\n",
       "      <td>2000</td>\n",
       "      <td>Documentary</td>\n",
       "      <td>Steven Cantor</td>\n",
       "      <td>English</td>\n",
       "      <td>United States</td>\n",
       "      <td>https://m.media-amazon.com/images/M/MV5BMTg4ND...</td>\n",
       "      <td>6.6</td>\n",
       "      <td>$8,779</td>\n",
       "    </tr>\n",
       "    <tr>\n",
       "      <th>6</th>\n",
       "      <td>tt0238112</td>\n",
       "      <td>Captain Corelli's Mandolin</td>\n",
       "      <td>2001</td>\n",
       "      <td>Drama, Music, Romance</td>\n",
       "      <td>John Madden</td>\n",
       "      <td>English, Greek, German, Italian</td>\n",
       "      <td>United Kingdom, France, United States</td>\n",
       "      <td>https://m.media-amazon.com/images/M/MV5BNzc0Mm...</td>\n",
       "      <td>5.9</td>\n",
       "      <td>$25,543,895</td>\n",
       "    </tr>\n",
       "    <tr>\n",
       "      <th>7</th>\n",
       "      <td>tt0238247</td>\n",
       "      <td>God's Army</td>\n",
       "      <td>2000</td>\n",
       "      <td>Drama</td>\n",
       "      <td>Richard Dutcher</td>\n",
       "      <td>English</td>\n",
       "      <td>United States</td>\n",
       "      <td>https://m.media-amazon.com/images/M/MV5BYWIxOT...</td>\n",
       "      <td>6.4</td>\n",
       "      <td>$2,637,726</td>\n",
       "    </tr>\n",
       "    <tr>\n",
       "      <th>8</th>\n",
       "      <td>tt0238321</td>\n",
       "      <td>Ivans xtc.</td>\n",
       "      <td>2000</td>\n",
       "      <td>Drama</td>\n",
       "      <td>Bernard Rose</td>\n",
       "      <td>English</td>\n",
       "      <td>United Kingdom, United States</td>\n",
       "      <td>https://m.media-amazon.com/images/M/MV5BNDE4MT...</td>\n",
       "      <td>6.5</td>\n",
       "      <td>$47,027</td>\n",
       "    </tr>\n",
       "    <tr>\n",
       "      <th>9</th>\n",
       "      <td>tt0238380</td>\n",
       "      <td>Equilibrium</td>\n",
       "      <td>2002</td>\n",
       "      <td>Action, Drama, Sci-Fi</td>\n",
       "      <td>Kurt Wimmer</td>\n",
       "      <td>English</td>\n",
       "      <td>United States</td>\n",
       "      <td>https://m.media-amazon.com/images/M/MV5BMTkzMz...</td>\n",
       "      <td>7.4</td>\n",
       "      <td>$1,203,794</td>\n",
       "    </tr>\n",
       "  </tbody>\n",
       "</table>\n",
       "</div>"
      ],
      "text/plain": [
       "      imdbID                                    Title  Year  \\\n",
       "0  tt0237572                               The Pledge  2001   \n",
       "1  tt0237865                    Twilight: Los Angeles  2000   \n",
       "2  tt0237993                            101 Reykjavík  2000   \n",
       "3  tt0237994                          15 février 1839  2001   \n",
       "4  tt0238015  All Access: Front Row. Backstage. Live!  2001   \n",
       "5  tt0238066           Bounce: Behind the Velvet Rope  2000   \n",
       "6  tt0238112               Captain Corelli's Mandolin  2001   \n",
       "7  tt0238247                               God's Army  2000   \n",
       "8  tt0238321                               Ivans xtc.  2000   \n",
       "9  tt0238380                              Equilibrium  2002   \n",
       "\n",
       "                   Genre           Director                         Language  \\\n",
       "0  Crime, Drama, Mystery          Sean Penn                          English   \n",
       "1                  Drama         Marc Levin                          English   \n",
       "2        Comedy, Romance  Baltasar Kormákur      Icelandic, English, Spanish   \n",
       "3         Drama, History   Pierre Falardeau           French, English, Latin   \n",
       "4     Documentary, Music      Martyn Atkins                          English   \n",
       "5            Documentary      Steven Cantor                          English   \n",
       "6  Drama, Music, Romance        John Madden  English, Greek, German, Italian   \n",
       "7                  Drama    Richard Dutcher                          English   \n",
       "8                  Drama       Bernard Rose                          English   \n",
       "9  Action, Drama, Sci-Fi        Kurt Wimmer                          English   \n",
       "\n",
       "                                     Country  \\\n",
       "0                      United States, Canada   \n",
       "1                              United States   \n",
       "2  Iceland, Denmark, France, Norway, Germany   \n",
       "3                                     Canada   \n",
       "4                                        USA   \n",
       "5                              United States   \n",
       "6      United Kingdom, France, United States   \n",
       "7                              United States   \n",
       "8              United Kingdom, United States   \n",
       "9                              United States   \n",
       "\n",
       "                                              Poster  imdbRating    BoxOffice  \n",
       "0  https://m.media-amazon.com/images/M/MV5BNTJjNT...         6.8  $19,733,089  \n",
       "1  https://m.media-amazon.com/images/M/MV5BMjE5Mj...         7.6      $10,688  \n",
       "2  https://m.media-amazon.com/images/M/MV5BMTIyNT...         6.8     $126,404  \n",
       "3  https://m.media-amazon.com/images/M/MV5BMGI2Y2...         7.2      $43,595  \n",
       "4  https://m.media-amazon.com/images/M/MV5BNjU1Nz...         8.2     $992,683  \n",
       "5  https://m.media-amazon.com/images/M/MV5BMTg4ND...         6.6       $8,779  \n",
       "6  https://m.media-amazon.com/images/M/MV5BNzc0Mm...         5.9  $25,543,895  \n",
       "7  https://m.media-amazon.com/images/M/MV5BYWIxOT...         6.4   $2,637,726  \n",
       "8  https://m.media-amazon.com/images/M/MV5BNDE4MT...         6.5      $47,027  \n",
       "9  https://m.media-amazon.com/images/M/MV5BMTkzMz...         7.4   $1,203,794  "
      ]
     },
     "execution_count": 6,
     "metadata": {},
     "output_type": "execute_result"
    }
   ],
   "source": [
    "df.head(10)"
   ]
  },
  {
   "cell_type": "code",
   "execution_count": 4,
   "metadata": {},
   "outputs": [],
   "source": [
    "def preprocessing(df):\n",
    "    # 결측치 제거\n",
    "    df_ml = df.dropna(axis=0)\n",
    "    \n",
    "    # imdbID, 포스터, Title,  컬럼 드랍\n",
    "    df_ml.drop(['Poster'], axis=1, inplace=True)\n",
    "    df_ml.drop(['imdbID'], axis=1, inplace=True)\n",
    "    df_ml.drop(['Title'], axis=1, inplace=True)\n",
    "#     df_ml.drop(['Language'], axis=1, inplace=True)\n",
    "#     df_ml.drop(['Country'], axis=1, inplace=True)\n",
    "#     df_ml.drop(['Director'], axis=1, inplace=True)\n",
    "    \n",
    "    # BoxOffice 컬럼 단위 제거 및 int형으로 변경\n",
    "    df_ml['BoxOffice'] = df_ml['BoxOffice'].str.replace(r\"[^0-9]\", r\"\", regex=True)\n",
    "    df_ml['BoxOffice'] = df_ml['BoxOffice'].astype('int')\n",
    "    \n",
    "    # Genre를 하나씩 분리하기 (Genre_single 컬럼 생성) 및 Genre 컬럼 삭제\n",
    "    result = df_ml['Genre'].str.replace(\" \", \"\")\n",
    "    result = result.str.split(',')\n",
    "    result = result.apply(lambda x: pd.Series(x))\n",
    "    result = result.stack().reset_index(level=1, drop=True).to_frame('Genre_single')\n",
    "    result = result.replace(\" \", \"\")\n",
    "    df_ml = df_ml.merge(result, left_index=True, right_index=True, how='left')\n",
    "    df_ml.drop(['Genre'], axis=1, inplace=True)\n",
    "    \n",
    "    \n",
    "    # 대표 감독, 언어, 국가만 넣기\n",
    "    df_ml['Director'] = df_ml['Director'].str.split(',').str.get(0)\n",
    "    df_ml['Language'] = df_ml['Language'].str.split(',').str.get(0)\n",
    "    df_ml['Country'] = df_ml['Country'].str.split(',').str.get(0)\n",
    "    \n",
    "    # usa로 통일\n",
    "    df_ml['Country'] = df_ml['Country'].str.replace('United States', 'USA')\n",
    "    \n",
    "    return df_ml\n",
    "\n",
    "df_ml = preprocessing(df)"
   ]
  },
  {
   "cell_type": "code",
   "execution_count": 5,
   "metadata": {},
   "outputs": [
    {
     "data": {
      "text/html": [
       "<div>\n",
       "<style scoped>\n",
       "    .dataframe tbody tr th:only-of-type {\n",
       "        vertical-align: middle;\n",
       "    }\n",
       "\n",
       "    .dataframe tbody tr th {\n",
       "        vertical-align: top;\n",
       "    }\n",
       "\n",
       "    .dataframe thead th {\n",
       "        text-align: right;\n",
       "    }\n",
       "</style>\n",
       "<table border=\"1\" class=\"dataframe\">\n",
       "  <thead>\n",
       "    <tr style=\"text-align: right;\">\n",
       "      <th></th>\n",
       "      <th>Year</th>\n",
       "      <th>Director</th>\n",
       "      <th>Language</th>\n",
       "      <th>Country</th>\n",
       "      <th>imdbRating</th>\n",
       "      <th>BoxOffice</th>\n",
       "      <th>Genre_single</th>\n",
       "    </tr>\n",
       "  </thead>\n",
       "  <tbody>\n",
       "    <tr>\n",
       "      <th>0</th>\n",
       "      <td>2001</td>\n",
       "      <td>Sean Penn</td>\n",
       "      <td>English</td>\n",
       "      <td>USA</td>\n",
       "      <td>6.8</td>\n",
       "      <td>19733089</td>\n",
       "      <td>Crime</td>\n",
       "    </tr>\n",
       "    <tr>\n",
       "      <th>0</th>\n",
       "      <td>2001</td>\n",
       "      <td>Sean Penn</td>\n",
       "      <td>English</td>\n",
       "      <td>USA</td>\n",
       "      <td>6.8</td>\n",
       "      <td>19733089</td>\n",
       "      <td>Drama</td>\n",
       "    </tr>\n",
       "    <tr>\n",
       "      <th>0</th>\n",
       "      <td>2001</td>\n",
       "      <td>Sean Penn</td>\n",
       "      <td>English</td>\n",
       "      <td>USA</td>\n",
       "      <td>6.8</td>\n",
       "      <td>19733089</td>\n",
       "      <td>Mystery</td>\n",
       "    </tr>\n",
       "    <tr>\n",
       "      <th>1</th>\n",
       "      <td>2000</td>\n",
       "      <td>Marc Levin</td>\n",
       "      <td>English</td>\n",
       "      <td>USA</td>\n",
       "      <td>7.6</td>\n",
       "      <td>10688</td>\n",
       "      <td>Drama</td>\n",
       "    </tr>\n",
       "    <tr>\n",
       "      <th>2</th>\n",
       "      <td>2000</td>\n",
       "      <td>Baltasar Kormákur</td>\n",
       "      <td>Icelandic</td>\n",
       "      <td>Iceland</td>\n",
       "      <td>6.8</td>\n",
       "      <td>126404</td>\n",
       "      <td>Comedy</td>\n",
       "    </tr>\n",
       "    <tr>\n",
       "      <th>2</th>\n",
       "      <td>2000</td>\n",
       "      <td>Baltasar Kormákur</td>\n",
       "      <td>Icelandic</td>\n",
       "      <td>Iceland</td>\n",
       "      <td>6.8</td>\n",
       "      <td>126404</td>\n",
       "      <td>Romance</td>\n",
       "    </tr>\n",
       "    <tr>\n",
       "      <th>3</th>\n",
       "      <td>2001</td>\n",
       "      <td>Pierre Falardeau</td>\n",
       "      <td>French</td>\n",
       "      <td>Canada</td>\n",
       "      <td>7.2</td>\n",
       "      <td>43595</td>\n",
       "      <td>Drama</td>\n",
       "    </tr>\n",
       "    <tr>\n",
       "      <th>3</th>\n",
       "      <td>2001</td>\n",
       "      <td>Pierre Falardeau</td>\n",
       "      <td>French</td>\n",
       "      <td>Canada</td>\n",
       "      <td>7.2</td>\n",
       "      <td>43595</td>\n",
       "      <td>History</td>\n",
       "    </tr>\n",
       "    <tr>\n",
       "      <th>4</th>\n",
       "      <td>2001</td>\n",
       "      <td>Martyn Atkins</td>\n",
       "      <td>English</td>\n",
       "      <td>USA</td>\n",
       "      <td>8.2</td>\n",
       "      <td>992683</td>\n",
       "      <td>Documentary</td>\n",
       "    </tr>\n",
       "    <tr>\n",
       "      <th>4</th>\n",
       "      <td>2001</td>\n",
       "      <td>Martyn Atkins</td>\n",
       "      <td>English</td>\n",
       "      <td>USA</td>\n",
       "      <td>8.2</td>\n",
       "      <td>992683</td>\n",
       "      <td>Music</td>\n",
       "    </tr>\n",
       "  </tbody>\n",
       "</table>\n",
       "</div>"
      ],
      "text/plain": [
       "   Year           Director   Language  Country  imdbRating  BoxOffice  \\\n",
       "0  2001          Sean Penn    English      USA         6.8   19733089   \n",
       "0  2001          Sean Penn    English      USA         6.8   19733089   \n",
       "0  2001          Sean Penn    English      USA         6.8   19733089   \n",
       "1  2000         Marc Levin    English      USA         7.6      10688   \n",
       "2  2000  Baltasar Kormákur  Icelandic  Iceland         6.8     126404   \n",
       "2  2000  Baltasar Kormákur  Icelandic  Iceland         6.8     126404   \n",
       "3  2001   Pierre Falardeau     French   Canada         7.2      43595   \n",
       "3  2001   Pierre Falardeau     French   Canada         7.2      43595   \n",
       "4  2001      Martyn Atkins    English      USA         8.2     992683   \n",
       "4  2001      Martyn Atkins    English      USA         8.2     992683   \n",
       "\n",
       "  Genre_single  \n",
       "0        Crime  \n",
       "0        Drama  \n",
       "0      Mystery  \n",
       "1        Drama  \n",
       "2       Comedy  \n",
       "2      Romance  \n",
       "3        Drama  \n",
       "3      History  \n",
       "4  Documentary  \n",
       "4        Music  "
      ]
     },
     "execution_count": 5,
     "metadata": {},
     "output_type": "execute_result"
    }
   ],
   "source": [
    "df_ml.head(10)"
   ]
  },
  {
   "cell_type": "code",
   "execution_count": 9,
   "metadata": {},
   "outputs": [
    {
     "data": {
      "text/plain": [
       "Year              32\n",
       "Director        2907\n",
       "Language          71\n",
       "Country           68\n",
       "imdbRating        71\n",
       "BoxOffice       4118\n",
       "Genre_single      23\n",
       "dtype: int64"
      ]
     },
     "execution_count": 9,
     "metadata": {},
     "output_type": "execute_result"
    }
   ],
   "source": [
    "df_ml.nunique()"
   ]
  },
  {
   "cell_type": "code",
   "execution_count": 10,
   "metadata": {},
   "outputs": [
    {
     "data": {
      "text/plain": [
       "array(['USA', 'Iceland', 'Canada', 'United Kingdom', 'China', 'India',\n",
       "       'France', 'Portugal', 'Italy', 'Australia', 'Denmark', 'Japan',\n",
       "       'Taiwan', 'Czech Republic', 'Brazil', 'Germany', 'Netherlands',\n",
       "       'Mexico', 'South Korea', 'Iran', 'Poland', 'Argentina', 'Hungary',\n",
       "       'New Zealand', 'Spain', 'Hong Kong', 'Belgium', 'Sweden',\n",
       "       'Colombia', 'UK', 'Israel', 'Thailand', 'Norway', 'Senegal',\n",
       "       'Austria', 'South Africa', 'Switzerland', 'Philippines', 'Algeria',\n",
       "       'Ireland', 'Tunisia', 'Occupied Palestinian Territory', 'Russia',\n",
       "       'Finland', 'Burkina Faso', 'Chile', 'Afghanistan', 'Turkey',\n",
       "       'Pakistan', 'Republic of Macedonia', 'Greece', 'Cambodia',\n",
       "       'Venezuela', 'Kazakhstan', 'Serbia', 'Puerto Rico', 'Romania',\n",
       "       'Singapore', 'Bosnia and Herzegovina', 'Luxembourg', 'Cameroon',\n",
       "       'Bhutan', 'Lebanon', 'Uruguay', 'Mali', 'Chad', 'Malaysia',\n",
       "       'Vietnam'], dtype=object)"
      ]
     },
     "execution_count": 10,
     "metadata": {},
     "output_type": "execute_result"
    }
   ],
   "source": [
    "df_ml['Country'].unique()"
   ]
  },
  {
   "cell_type": "markdown",
   "metadata": {},
   "source": [
    "# ML 모델 구현"
   ]
  },
  {
   "cell_type": "code",
   "execution_count": 11,
   "metadata": {},
   "outputs": [
    {
     "data": {
      "text/plain": [
       "(9495, 7)"
      ]
     },
     "execution_count": 11,
     "metadata": {},
     "output_type": "execute_result"
    }
   ],
   "source": [
    "df_ml.shape"
   ]
  },
  {
   "cell_type": "code",
   "execution_count": 6,
   "metadata": {},
   "outputs": [
    {
     "data": {
      "text/plain": [
       "22944110.956608742"
      ]
     },
     "execution_count": 6,
     "metadata": {},
     "output_type": "execute_result"
    }
   ],
   "source": [
    "baseline = df_ml[target].mean()\n",
    "baseline"
   ]
  },
  {
   "cell_type": "code",
   "execution_count": 13,
   "metadata": {},
   "outputs": [
    {
     "data": {
      "text/plain": [
       "<matplotlib.axes._subplots.AxesSubplot at 0x7fd1a873b220>"
      ]
     },
     "execution_count": 13,
     "metadata": {},
     "output_type": "execute_result"
    },
    {
     "data": {
      "image/png": "[encoded data removed]",
      "text/plain": [
       "<Figure size 432x288 with 1 Axes>"
      ]
     },
     "metadata": {
      "needs_background": "light"
     },
     "output_type": "display_data"
    }
   ],
   "source": [
    "df_ml[target].hist()"
   ]
  },
  {
   "cell_type": "code",
   "execution_count": 14,
   "metadata": {},
   "outputs": [
    {
     "data": {
      "text/plain": [
       "Index(['Year', 'Director', 'Language', 'Country', 'imdbRating',\n",
       "       'Genre_single'],\n",
       "      dtype='object')"
      ]
     },
     "execution_count": 14,
     "metadata": {},
     "output_type": "execute_result"
    }
   ],
   "source": [
    "features = df_ml.drop(columns=[target]).columns\n",
    "features"
   ]
  },
  {
   "cell_type": "code",
   "execution_count": 25,
   "metadata": {},
   "outputs": [],
   "source": [
    "# from sklearn.model_selection import train_test_split\n",
    "\n",
    "# # 학습과 테스트 데이터 세트를 반환하는 함수.\n",
    "# def get_train_test_dataset(df):    \n",
    "#     ohEncoder = OneHotEncoder()\n",
    "#     df = ohEncoder.fit_transform(df)\n",
    "    \n",
    "#     features = df.drop(columns=[target]).columns\n",
    "    \n",
    "#     # 타겟값을 log1p() 변환. (정규 분포 형태로 바꾸기 위함)\n",
    "#     df_target_log = np.log1p(df[target])\n",
    "    \n",
    "#     X_train, X_test, y_train, y_test = train_test_split(df[features], df_target_log, test_size=0.2, random_state=2)  \n",
    "#     X_train, X_val, y_train, y_val = train_test_split(X_train, y_train, test_size=0.25, random_state=2)\n",
    "\n",
    "\n",
    "#     # 학습과 테스트 데이터 세트 반환\n",
    "#     return X_train, X_test, X_val, y_train, y_test, y_val\n",
    "\n",
    "# X_train, X_test, X_val, y_train, y_test, y_val = get_train_test_dataset(df_ml)\n",
    "\n",
    "\n",
    "\n",
    "\n",
    "\n",
    "from sklearn.model_selection import train_test_split\n",
    "\n",
    "# 학습과 테스트 데이터 세트를 반환하는 함수.\n",
    "def get_train_test_dataset(df):    \n",
    "    \n",
    "    features = df.drop(columns=[target]).columns\n",
    "    \n",
    "    # 타겟값을 log1p() 변환. (정규 분포 형태로 바꾸기 위함)\n",
    "    df_target_log = np.log1p(df[target])\n",
    "    \n",
    "    X_train, X_test, y_train, y_test = train_test_split(df[features], df_target_log, test_size=0.2, random_state=2)  \n",
    "\n",
    "\n",
    "    # 학습과 테스트 데이터 세트 반환\n",
    "    return X_train, X_test, y_train, y_test\n",
    "\n",
    "X_train, X_test, y_train, y_test = get_train_test_dataset(df_ml)"
   ]
  },
  {
   "cell_type": "code",
   "execution_count": 26,
   "metadata": {},
   "outputs": [
    {
     "data": {
      "text/plain": [
       "(7596, 6)"
      ]
     },
     "execution_count": 26,
     "metadata": {},
     "output_type": "execute_result"
    }
   ],
   "source": [
    "X_train.shape"
   ]
  },
  {
   "cell_type": "code",
   "execution_count": 27,
   "metadata": {},
   "outputs": [
    {
     "data": {
      "text/plain": [
       "(7596,)"
      ]
     },
     "execution_count": 27,
     "metadata": {},
     "output_type": "execute_result"
    }
   ],
   "source": [
    "y_train.shape"
   ]
  },
  {
   "cell_type": "code",
   "execution_count": 28,
   "metadata": {},
   "outputs": [
    {
     "name": "stdout",
     "output_type": "stream",
     "text": [
      "(7596, 6) (1899, 6)\n"
     ]
    }
   ],
   "source": [
    "print(X_train.shape, X_test.shape)"
   ]
  },
  {
   "cell_type": "code",
   "execution_count": 29,
   "metadata": {},
   "outputs": [
    {
     "name": "stdout",
     "output_type": "stream",
     "text": [
      "(7596,) (1899,)\n"
     ]
    }
   ],
   "source": [
    "print(y_train.shape, y_test.shape)"
   ]
  },
  {
   "cell_type": "code",
   "execution_count": 30,
   "metadata": {
    "scrolled": true
   },
   "outputs": [
    {
     "data": {
      "text/plain": [
       "<matplotlib.axes._subplots.AxesSubplot at 0x7fe04881efa0>"
      ]
     },
     "execution_count": 30,
     "metadata": {},
     "output_type": "execute_result"
    },
    {
     "data": {
      "image/png": "[encoded data removed]",
      "text/plain": [
       "<Figure size 432x288 with 1 Axes>"
      ]
     },
     "metadata": {
      "needs_background": "light"
     },
     "output_type": "display_data"
    }
   ],
   "source": [
    "# log 변환 전의 skewed 모습.\n",
    "df_ml[target].hist()"
   ]
  },
  {
   "cell_type": "code",
   "execution_count": 31,
   "metadata": {
    "scrolled": true
   },
   "outputs": [
    {
     "data": {
      "text/plain": [
       "<matplotlib.axes._subplots.AxesSubplot at 0x7fe03cca8070>"
      ]
     },
     "execution_count": 31,
     "metadata": {},
     "output_type": "execute_result"
    },
    {
     "data": {
      "image/png": "[encoded data removed]",
      "text/plain": [
       "<Figure size 432x288 with 1 Axes>"
      ]
     },
     "metadata": {
      "needs_background": "light"
     },
     "output_type": "display_data"
    }
   ],
   "source": [
    "# 정규화 형태를 띄는 것을 볼 수 있다.\n",
    "y_train.hist()"
   ]
  },
  {
   "cell_type": "code",
   "execution_count": 32,
   "metadata": {},
   "outputs": [],
   "source": [
    "# MSE, MAE 계산\n",
    "from sklearn.metrics import r2_score\n",
    "from sklearn.metrics import mean_squared_error, mean_absolute_error\n",
    "\n",
    "def evaluate_regressor(y, pred):\n",
    "    mse = mean_squared_error(y, pred)\n",
    "    mae = mean_absolute_error(y, pred)\n",
    "    r2 = r2_score(y, pred)\n",
    "    print('MSE: ', mse,  'MAE: ', mae, 'r2 : ', r2)"
   ]
  },
  {
   "cell_type": "markdown",
   "metadata": {},
   "source": [
    "# 모델링 with 파이프라인"
   ]
  },
  {
   "cell_type": "code",
   "execution_count": 43,
   "metadata": {},
   "outputs": [],
   "source": [
    "# 모델을 학습, 예측, 평가 하는 함수\n",
    "def get_model_train_eval(model, ftr_train=None, ftr_test=None, tgt_train=None, tgt_test=None):\n",
    "    model.fit(ftr_train, tgt_train)\n",
    "    pred = model.predict(ftr_test)\n",
    "    \n",
    "    y_test_exp = np.expm1(tgt_test)\n",
    "    pred_exp = np.expm1(pred)\n",
    "    \n",
    "    # 예측 결과 평가 지표\n",
    "    evaluate_regressor(y_test_exp, pred_exp)\n",
    "    \n",
    "    # 예측 결과 그래프\n",
    "    modeling_result = pd.concat([y_test_exp.reset_index(drop=True), pd.DataFrame(pred_exp)], axis = 1)\n",
    "    modeling_result.columns = ['label','predict']\n",
    "    sns.regplot(x = 'label', y = 'predict', data = modeling_result)\n",
    "    "
   ]
  },
  {
   "cell_type": "code",
   "execution_count": 44,
   "metadata": {},
   "outputs": [
    {
     "name": "stdout",
     "output_type": "stream",
     "text": [
      "MSE:  2457977452637700.0 MAE:  19274272.111088194 r2 :  0.1383190126138506\n"
     ]
    },
    {
     "data": {
      "image/png": "[encoded data removed]",
      "text/plain": [
       "<Figure size 432x288 with 1 Axes>"
      ]
     },
     "metadata": {
      "needs_background": "light"
     },
     "output_type": "display_data"
    }
   ],
   "source": [
    "from lightgbm import LGBMRegressor\n",
    "\n",
    "pipe = Pipeline([\n",
    "    ('preprocessing', OneHotEncoder()),\n",
    "    ('LGBM', LGBMRegressor(n_estimators=100, learning_rate=0.1, max_depth=50, num_iterations=200, random_state=2))\n",
    "])\n",
    "\n",
    "get_model_train_eval(pipe, ftr_train=X_train, ftr_test=X_test, tgt_train=y_train, tgt_test=y_test)"
   ]
  },
  {
   "cell_type": "code",
   "execution_count": 28,
   "metadata": {
    "scrolled": true
   },
   "outputs": [
    {
     "name": "stdout",
     "output_type": "stream",
     "text": [
      "Fitting 3 folds for each of 36 candidates, totalling 108 fits\n",
      "최적 하이퍼파라미터:  {'LGBM__subsamples': 0, 'LGBM__num_iterations': 200, 'LGBM__n_estimators': 10, 'LGBM__learning_rate': 1}\n"
     ]
    }
   ],
   "source": [
    "# # LGBMRegressor 튜닝할 하이퍼파라미터의 범위를 지정해 주는 부분\n",
    "# dists = {\n",
    "#     'LGBM__learning_rate': [0.01, 0.2],\n",
    "#     'LGBM__n_estimators': [10, 1000],\n",
    "#     'LGBM__learning_rate': [0, 1],\n",
    "#     'LGBM__num_iterations': [0, 200, 500],\n",
    "#     'LGBM__subsamples': [0, 10, 200]\n",
    "# }\n",
    "\n",
    "# random_search = RandomizedSearchCV(\n",
    "#     pipe, \n",
    "#     param_distributions=dists, \n",
    "#     n_iter=50, \n",
    "#     cv=3,\n",
    "#     verbose=1,\n",
    "#     n_jobs=-1\n",
    "# )\n",
    "# random_search.fit(X_train, y_train);\n",
    "# print('최적 하이퍼파라미터: ', random_search.best_params_)"
   ]
  },
  {
   "cell_type": "code",
   "execution_count": 45,
   "metadata": {},
   "outputs": [
    {
     "data": {
      "text/plain": [
       "6154325.593781005"
      ]
     },
     "execution_count": 45,
     "metadata": {},
     "output_type": "execute_result"
    }
   ],
   "source": [
    "# 유저가 예측하고자 하는 영화 케이스\n",
    "\n",
    "def predict_boxoffice(model, Year, Director, Language, Country, imdbRating, Genre_single ):\n",
    "    df = pd.DataFrame(\n",
    "        data=[[Year, Director, Language, Country, imdbRating, Genre_single]], \n",
    "        columns=['Year', 'Director', 'Language', 'Country', 'imdbRating', 'Genre_single']\n",
    "    )\n",
    "\n",
    "    # 예측\n",
    "    pred = np.expm1(model.predict(df)[0])\n",
    "    \n",
    "    return pred\n",
    "\n",
    "    \n",
    "predicted_value = predict_boxoffice(pipe, 2020, 'Wes Anderson', 'English', 'USA', 8.5, 'Romance')\n",
    "predicted_value"
   ]
  },
  {
   "cell_type": "code",
   "execution_count": 46,
   "metadata": {},
   "outputs": [],
   "source": [
    "# 모델 피클링\n",
    "with open('pipe.pkl','wb') as pickle_file:\n",
    "    pickle.dump(pipe, pickle_file)"
   ]
  },
  {
   "cell_type": "code",
   "execution_count": 47,
   "metadata": {},
   "outputs": [],
   "source": [
    "# 모델 load 및 예상 boxoffice 출력\n",
    "model = None\n",
    "with open('pipe.pkl','rb') as pickle_file:\n",
    "   model = pickle.load(pickle_file)"
   ]
  },
  {
   "cell_type": "code",
   "execution_count": 49,
   "metadata": {},
   "outputs": [
    {
     "name": "stdout",
     "output_type": "stream",
     "text": [
      "예상 boxoffice은 $6154325 입니다.\n"
     ]
    }
   ],
   "source": [
    "predict_boxoffice = predict_boxoffice(model, 2020, 'Wes Anderson', 'English', 'USA', 8.5, 'Romance')\n",
    "print(f'예상 boxoffice은 ${int(predict_boxoffice)} 입니다.')"
   ]
  }
 ],
 "metadata": {
  "kernelspec": {
   "display_name": "Python 3",
   "language": "python",
   "name": "python3"
  },
  "language_info": {
   "codemirror_mode": {
    "name": "ipython",
    "version": 3
   },
   "file_extension": ".py",
   "mimetype": "text/x-python",
   "name": "python",
   "nbconvert_exporter": "python",
   "pygments_lexer": "ipython3",
   "version": "3.8.5"
  },
  "toc": {
   "base_numbering": 1,
   "nav_menu": {},
   "number_sections": true,
   "sideBar": true,
   "skip_h1_title": false,
   "title_cell": "Table of Contents",
   "title_sidebar": "Contents",
   "toc_cell": false,
   "toc_position": {},
   "toc_section_display": true,
   "toc_window_display": false
  }
 },
 "nbformat": 4,
 "nbformat_minor": 4
}
