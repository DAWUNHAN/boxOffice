{
 "cells": [
  {
   "cell_type": "code",
   "execution_count": 1,
   "metadata": {},
   "outputs": [],
   "source": [
    "import matplotlib.pyplot as plt\n",
    "import numpy as np\n",
    "import pandas as pd\n",
    "import pickle\n",
    "import plotly.express as px\n",
    "import re\n",
    "import seaborn as sns\n",
    "import warnings\n",
    "import lightgbm as lgbm\n",
    "\n",
    "from category_encoders import OneHotEncoder, OrdinalEncoder\n",
    "from lightgbm import LGBMRegressor\n",
    "from sklearn.metrics import mean_squared_error, mean_absolute_error, r2_score\n",
    "from sklearn.model_selection import RandomizedSearchCV, train_test_split\n",
    "from sklearn.pipeline import make_pipeline, Pipeline\n",
    "\n",
    "warnings.filterwarnings(action='ignore')\n",
    "\n",
    "#abcd efg hijk lmn opqr stu vwxyz"
   ]
  },
  {
   "cell_type": "code",
   "execution_count": 2,
   "metadata": {},
   "outputs": [
    {
     "data": {
      "text/html": [
       "<div>\n",
       "<style scoped>\n",
       "    .dataframe tbody tr th:only-of-type {\n",
       "        vertical-align: middle;\n",
       "    }\n",
       "\n",
       "    .dataframe tbody tr th {\n",
       "        vertical-align: top;\n",
       "    }\n",
       "\n",
       "    .dataframe thead th {\n",
       "        text-align: right;\n",
       "    }\n",
       "</style>\n",
       "<table border=\"1\" class=\"dataframe\">\n",
       "  <thead>\n",
       "    <tr style=\"text-align: right;\">\n",
       "      <th></th>\n",
       "      <th>imdbID</th>\n",
       "      <th>Title</th>\n",
       "      <th>Year</th>\n",
       "      <th>Genre</th>\n",
       "      <th>Director</th>\n",
       "      <th>Language</th>\n",
       "      <th>Country</th>\n",
       "      <th>Poster</th>\n",
       "      <th>imdbRating</th>\n",
       "      <th>BoxOffice</th>\n",
       "    </tr>\n",
       "  </thead>\n",
       "  <tbody>\n",
       "    <tr>\n",
       "      <th>0</th>\n",
       "      <td>tt0237572</td>\n",
       "      <td>The Pledge</td>\n",
       "      <td>2001</td>\n",
       "      <td>Crime, Drama, Mystery</td>\n",
       "      <td>Sean Penn</td>\n",
       "      <td>English</td>\n",
       "      <td>United States, Canada</td>\n",
       "      <td>https://m.media-amazon.com/images/M/MV5BNTJjNT...</td>\n",
       "      <td>6.8</td>\n",
       "      <td>$19,733,089</td>\n",
       "    </tr>\n",
       "    <tr>\n",
       "      <th>1</th>\n",
       "      <td>tt0237865</td>\n",
       "      <td>Twilight: Los Angeles</td>\n",
       "      <td>2000</td>\n",
       "      <td>Drama</td>\n",
       "      <td>Marc Levin</td>\n",
       "      <td>English</td>\n",
       "      <td>United States</td>\n",
       "      <td>https://m.media-amazon.com/images/M/MV5BMjE5Mj...</td>\n",
       "      <td>7.6</td>\n",
       "      <td>$10,688</td>\n",
       "    </tr>\n",
       "    <tr>\n",
       "      <th>2</th>\n",
       "      <td>tt0237993</td>\n",
       "      <td>101 Reykjavík</td>\n",
       "      <td>2000</td>\n",
       "      <td>Comedy, Romance</td>\n",
       "      <td>Baltasar Kormákur</td>\n",
       "      <td>Icelandic, English, Spanish</td>\n",
       "      <td>Iceland, Denmark, France, Norway, Germany</td>\n",
       "      <td>https://m.media-amazon.com/images/M/MV5BMTIyNT...</td>\n",
       "      <td>6.8</td>\n",
       "      <td>$126,404</td>\n",
       "    </tr>\n",
       "  </tbody>\n",
       "</table>\n",
       "</div>"
      ],
      "text/plain": [
       "      imdbID                  Title  Year                  Genre  \\\n",
       "0  tt0237572             The Pledge  2001  Crime, Drama, Mystery   \n",
       "1  tt0237865  Twilight: Los Angeles  2000                  Drama   \n",
       "2  tt0237993          101 Reykjavík  2000        Comedy, Romance   \n",
       "\n",
       "            Director                     Language  \\\n",
       "0          Sean Penn                      English   \n",
       "1         Marc Levin                      English   \n",
       "2  Baltasar Kormákur  Icelandic, English, Spanish   \n",
       "\n",
       "                                     Country  \\\n",
       "0                      United States, Canada   \n",
       "1                              United States   \n",
       "2  Iceland, Denmark, France, Norway, Germany   \n",
       "\n",
       "                                              Poster  imdbRating    BoxOffice  \n",
       "0  https://m.media-amazon.com/images/M/MV5BNTJjNT...         6.8  $19,733,089  \n",
       "1  https://m.media-amazon.com/images/M/MV5BMjE5Mj...         7.6      $10,688  \n",
       "2  https://m.media-amazon.com/images/M/MV5BMTIyNT...         6.8     $126,404  "
      ]
     },
     "execution_count": 2,
     "metadata": {},
     "output_type": "execute_result"
    }
   ],
   "source": [
    "df = pd.read_csv('./data/movie_train.csv')\n",
    "df.head(3)"
   ]
  },
  {
   "cell_type": "code",
   "execution_count": 3,
   "metadata": {},
   "outputs": [],
   "source": [
    "target = 'BoxOffice'"
   ]
  },
  {
   "cell_type": "code",
   "execution_count": 4,
   "metadata": {},
   "outputs": [],
   "source": [
    "def preprocessing(df):\n",
    "    # 결측치 제거\n",
    "    df_ml = df.dropna(axis=0)\n",
    "    \n",
    "    # imdbID, 포스터, Title,  컬럼 드랍\n",
    "    df_ml.drop(['Poster'], axis=1, inplace=True)\n",
    "    df_ml.drop(['imdbID'], axis=1, inplace=True)\n",
    "    df_ml.drop(['Title'], axis=1, inplace=True)\n",
    "    df_ml.drop(['Language'], axis=1, inplace=True)\n",
    "    df_ml.drop(['Country'], axis=1, inplace=True)\n",
    "    df_ml.drop(['Director'], axis=1, inplace=True)\n",
    "    df_ml.drop(['Genre'], axis=1, inplace=True)\n",
    "    \n",
    "    # BoxOffice 컬럼 단위 제거 및 int형으로 변경\n",
    "    df_ml['BoxOffice'] = df_ml['BoxOffice'].str.replace(r\"[^0-9]\", r\"\", regex=True)\n",
    "    df_ml['BoxOffice'] = df_ml['BoxOffice'].astype('int')\n",
    "    \n",
    "#     # Genre를 하나씩 분리하기 (Genre_single 컬럼 생성) 및 Genre 컬럼 삭제\n",
    "#     result = df_ml['Genre'].str.replace(\" \", \"\")\n",
    "#     result = result.str.split(',')\n",
    "#     result = result.apply(lambda x: pd.Series(x))\n",
    "#     result = result.stack().reset_index(level=1, drop=True).to_frame('Genre_single')\n",
    "#     result = result.replace(\" \", \"\")\n",
    "#     df_ml = df_ml.merge(result, left_index=True, right_index=True, how='left')\n",
    "#     df_ml.drop(['Genre'], axis=1, inplace=True)\n",
    "    \n",
    "    \n",
    "#     # 대표 감독, 언어, 국가만 넣기\n",
    "#     df_ml['Director'] = df_ml['Director'].str.split(',').str.get(0)\n",
    "#     df_ml['Language'] = df_ml['Language'].str.split(',').str.get(0)\n",
    "#     df_ml['Country'] = df_ml['Country'].str.split(',').str.get(0)\n",
    "    \n",
    "#     # usa로 통일\n",
    "#     df_ml['Country'] = df_ml['Country'].str.replace('United States', 'USA')\n",
    "    \n",
    "    return df_ml\n",
    "\n",
    "df_ml = preprocessing(df)"
   ]
  },
  {
   "cell_type": "code",
   "execution_count": 5,
   "metadata": {},
   "outputs": [
    {
     "data": {
      "text/plain": [
       "Index(['Year', 'imdbRating'], dtype='object')"
      ]
     },
     "execution_count": 5,
     "metadata": {},
     "output_type": "execute_result"
    }
   ],
   "source": [
    "features = df_ml.drop(columns=[target]).columns\n",
    "features"
   ]
  },
  {
   "cell_type": "code",
   "execution_count": 6,
   "metadata": {},
   "outputs": [],
   "source": [
    "# 학습과 테스트 데이터 세트를 반환하는 함수.\n",
    "def get_train_test_dataset(df):    \n",
    "    \n",
    "    # 타겟값을 log1p() 변환. (정규 분포 형태로 바꾸기 위함)\n",
    "#     df_target_log = np.log1p(df[target])\n",
    "    \n",
    "    features = df.drop(columns=[target]).columns\n",
    "    \n",
    "    X_train, X_test, y_train, y_test = train_test_split(df[features], df[target], test_size=0.2, random_state=2)  \n",
    "\n",
    "\n",
    "    # 학습과 테스트 데이터 세트 반환\n",
    "    return X_train, X_test, y_train, y_test\n",
    "\n",
    "X_train, X_test, y_train, y_test = get_train_test_dataset(df_ml)"
   ]
  },
  {
   "cell_type": "code",
   "execution_count": 7,
   "metadata": {},
   "outputs": [
    {
     "name": "stdout",
     "output_type": "stream",
     "text": [
      "(3321, 2) (831, 2)\n"
     ]
    }
   ],
   "source": [
    "print(X_train.shape, X_test.shape)"
   ]
  },
  {
   "cell_type": "code",
   "execution_count": 8,
   "metadata": {},
   "outputs": [
    {
     "name": "stdout",
     "output_type": "stream",
     "text": [
      "(3321,) (831,)\n"
     ]
    }
   ],
   "source": [
    "print(y_train.shape, y_test.shape)"
   ]
  },
  {
   "cell_type": "code",
   "execution_count": 9,
   "metadata": {},
   "outputs": [],
   "source": [
    "import lightgbm as lgb\n",
    "\n",
    "train_ds = lgb.Dataset(X_train, label = y_train) \n",
    "test_ds = lgb.Dataset(X_test, label = y_test)"
   ]
  },
  {
   "cell_type": "code",
   "execution_count": 10,
   "metadata": {},
   "outputs": [],
   "source": [
    "params= {\n",
    "    'n_estimators':100, 'learning_rate':0.1, 'max_depth':50, 'num_iterations':200\n",
    "}"
   ]
  },
  {
   "cell_type": "code",
   "execution_count": 11,
   "metadata": {},
   "outputs": [
    {
     "name": "stdout",
     "output_type": "stream",
     "text": [
      "[LightGBM] [Warning] Accuracy may be bad since you didn't explicitly set num_leaves OR 2^max_depth > num_leaves. (num_leaves=31).\n",
      "[LightGBM] [Warning] Accuracy may be bad since you didn't explicitly set num_leaves OR 2^max_depth > num_leaves. (num_leaves=31).\n",
      "[LightGBM] [Warning] Auto-choosing col-wise multi-threading, the overhead of testing was 0.000417 seconds.\n",
      "You can set `force_col_wise=true` to remove the overhead.\n",
      "[LightGBM] [Info] Total Bins 90\n",
      "[LightGBM] [Info] Number of data points in the train set: 3321, number of used features: 2\n",
      "[LightGBM] [Warning] Accuracy may be bad since you didn't explicitly set num_leaves OR 2^max_depth > num_leaves. (num_leaves=31).\n",
      "[LightGBM] [Info] Start training from score 19107699.447154\n",
      "[100]\tvalid_0's l2: 2.27146e+15\n"
     ]
    }
   ],
   "source": [
    "model = lgb.train(params, train_ds, 1000, test_ds, verbose_eval=100)"
   ]
  },
  {
   "cell_type": "code",
   "execution_count": 12,
   "metadata": {},
   "outputs": [],
   "source": [
    "predict_train = model.predict(X_train)\n",
    "predict_test = model.predict(X_test)"
   ]
  },
  {
   "cell_type": "code",
   "execution_count": 14,
   "metadata": {},
   "outputs": [
    {
     "data": {
      "image/png": "[encoded data removed]",
      "text/plain": [
       "<Figure size 432x288 with 1 Axes>"
      ]
     },
     "metadata": {
      "needs_background": "light"
     },
     "output_type": "display_data"
    }
   ],
   "source": [
    "final_result = pd.concat([y_test.reset_index(drop=True), pd.DataFrame(predict_test)], axis = 1)\n",
    "final_result.columns = ['label','predict']\n",
    "sns.regplot(x = 'label', y = 'predict', data = final_result);"
   ]
  },
  {
   "cell_type": "code",
   "execution_count": 18,
   "metadata": {},
   "outputs": [],
   "source": [
    "# 모델 피클링\n",
    "with open('model.pkl','wb') as pickle_file:\n",
    "    pickle.dump(model, pickle_file)"
   ]
  },
  {
   "cell_type": "code",
   "execution_count": 15,
   "metadata": {},
   "outputs": [],
   "source": [
    "def predict_boxoffice(Year, imdbRating ):\n",
    "\n",
    "    df = pd.DataFrame(\n",
    "        data=[[Year, imdbRating]], \n",
    "        columns=['Year', 'imdbRating']\n",
    "    )\n",
    "    ohEncoder = OneHotEncoder()\n",
    "    df_encoded = ohEncoder.fit_transform(df)\n",
    "\n",
    "    # 예측\n",
    "    pred = model.predict(df_encoded)[0]\n",
    "    \n",
    "    return pred\n"
   ]
  },
  {
   "cell_type": "code",
   "execution_count": 16,
   "metadata": {},
   "outputs": [
    {
     "name": "stdout",
     "output_type": "stream",
     "text": [
      "9379424.021118347\n"
     ]
    }
   ],
   "source": [
    "pred =  predict_boxoffice(Year=2001,  imdbRating=6.8)\n",
    "print(pred)"
   ]
  },
  {
   "cell_type": "code",
   "execution_count": 17,
   "metadata": {},
   "outputs": [
    {
     "data": {
      "text/html": [
       "<div>\n",
       "<style scoped>\n",
       "    .dataframe tbody tr th:only-of-type {\n",
       "        vertical-align: middle;\n",
       "    }\n",
       "\n",
       "    .dataframe tbody tr th {\n",
       "        vertical-align: top;\n",
       "    }\n",
       "\n",
       "    .dataframe thead th {\n",
       "        text-align: right;\n",
       "    }\n",
       "</style>\n",
       "<table border=\"1\" class=\"dataframe\">\n",
       "  <thead>\n",
       "    <tr style=\"text-align: right;\">\n",
       "      <th></th>\n",
       "      <th>Year</th>\n",
       "      <th>imdbRating</th>\n",
       "    </tr>\n",
       "  </thead>\n",
       "  <tbody>\n",
       "    <tr>\n",
       "      <th>4054</th>\n",
       "      <td>2008</td>\n",
       "      <td>5.4</td>\n",
       "    </tr>\n",
       "    <tr>\n",
       "      <th>3774</th>\n",
       "      <td>2008</td>\n",
       "      <td>6.1</td>\n",
       "    </tr>\n",
       "    <tr>\n",
       "      <th>2916</th>\n",
       "      <td>2006</td>\n",
       "      <td>6.6</td>\n",
       "    </tr>\n",
       "    <tr>\n",
       "      <th>1025</th>\n",
       "      <td>2003</td>\n",
       "      <td>6.7</td>\n",
       "    </tr>\n",
       "    <tr>\n",
       "      <th>3032</th>\n",
       "      <td>2005</td>\n",
       "      <td>7.4</td>\n",
       "    </tr>\n",
       "    <tr>\n",
       "      <th>...</th>\n",
       "      <td>...</td>\n",
       "      <td>...</td>\n",
       "    </tr>\n",
       "    <tr>\n",
       "      <th>3355</th>\n",
       "      <td>2007</td>\n",
       "      <td>7.8</td>\n",
       "    </tr>\n",
       "    <tr>\n",
       "      <th>1111</th>\n",
       "      <td>2003</td>\n",
       "      <td>6.6</td>\n",
       "    </tr>\n",
       "    <tr>\n",
       "      <th>2534</th>\n",
       "      <td>2007</td>\n",
       "      <td>6.2</td>\n",
       "    </tr>\n",
       "    <tr>\n",
       "      <th>3628</th>\n",
       "      <td>2009</td>\n",
       "      <td>5.8</td>\n",
       "    </tr>\n",
       "    <tr>\n",
       "      <th>2595</th>\n",
       "      <td>2005</td>\n",
       "      <td>7.3</td>\n",
       "    </tr>\n",
       "  </tbody>\n",
       "</table>\n",
       "<p>3321 rows × 2 columns</p>\n",
       "</div>"
      ],
      "text/plain": [
       "      Year  imdbRating\n",
       "4054  2008         5.4\n",
       "3774  2008         6.1\n",
       "2916  2006         6.6\n",
       "1025  2003         6.7\n",
       "3032  2005         7.4\n",
       "...    ...         ...\n",
       "3355  2007         7.8\n",
       "1111  2003         6.6\n",
       "2534  2007         6.2\n",
       "3628  2009         5.8\n",
       "2595  2005         7.3\n",
       "\n",
       "[3321 rows x 2 columns]"
      ]
     },
     "execution_count": 17,
     "metadata": {},
     "output_type": "execute_result"
    }
   ],
   "source": [
    "X_train"
   ]
  },
  {
   "cell_type": "code",
   "execution_count": null,
   "metadata": {},
   "outputs": [],
   "source": []
  }
 ],
 "metadata": {
  "kernelspec": {
   "display_name": "Python 3",
   "language": "python",
   "name": "python3"
  },
  "language_info": {
   "codemirror_mode": {
    "name": "ipython",
    "version": 3
   },
   "file_extension": ".py",
   "mimetype": "text/x-python",
   "name": "python",
   "nbconvert_exporter": "python",
   "pygments_lexer": "ipython3",
   "version": "3.8.5"
  },
  "toc": {
   "base_numbering": 1,
   "nav_menu": {},
   "number_sections": true,
   "sideBar": true,
   "skip_h1_title": false,
   "title_cell": "Table of Contents",
   "title_sidebar": "Contents",
   "toc_cell": false,
   "toc_position": {},
   "toc_section_display": true,
   "toc_window_display": false
  }
 },
 "nbformat": 4,
 "nbformat_minor": 4
}
